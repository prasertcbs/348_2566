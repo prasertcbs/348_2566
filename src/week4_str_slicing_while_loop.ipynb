{
 "cells": [
  {
   "cell_type": "markdown",
   "metadata": {},
   "source": [
    "# week 4\n",
    "\n",
    "-   slicing string\n",
    "-   while loop\n"
   ]
  },
  {
   "cell_type": "markdown",
   "metadata": {},
   "source": [
    "## slicing\n"
   ]
  },
  {
   "cell_type": "code",
   "execution_count": 1,
   "metadata": {},
   "outputs": [
    {
     "data": {
      "text/plain": [
       "'6'"
      ]
     },
     "execution_count": 1,
     "metadata": {},
     "output_type": "execute_result"
    }
   ],
   "source": [
    "s_id = \"6541234526\"\n",
    "s_id[0]"
   ]
  },
  {
   "cell_type": "code",
   "execution_count": 2,
   "metadata": {},
   "outputs": [
    {
     "data": {
      "text/plain": [
       "'5'"
      ]
     },
     "execution_count": 2,
     "metadata": {},
     "output_type": "execute_result"
    }
   ],
   "source": [
    "s_id[1]"
   ]
  },
  {
   "cell_type": "code",
   "execution_count": 3,
   "metadata": {},
   "outputs": [
    {
     "data": {
      "text/plain": [
       "'65'"
      ]
     },
     "execution_count": 3,
     "metadata": {},
     "output_type": "execute_result"
    }
   ],
   "source": [
    "s_id[0:2]"
   ]
  },
  {
   "cell_type": "code",
   "execution_count": 4,
   "metadata": {},
   "outputs": [
    {
     "data": {
      "text/plain": [
       "'65'"
      ]
     },
     "execution_count": 4,
     "metadata": {},
     "output_type": "execute_result"
    }
   ],
   "source": [
    "s_id[:2]"
   ]
  },
  {
   "cell_type": "code",
   "execution_count": 5,
   "metadata": {},
   "outputs": [
    {
     "data": {
      "text/plain": [
       "'2'"
      ]
     },
     "execution_count": 5,
     "metadata": {},
     "output_type": "execute_result"
    }
   ],
   "source": [
    "s_id[8]"
   ]
  },
  {
   "cell_type": "code",
   "execution_count": 7,
   "metadata": {},
   "outputs": [
    {
     "data": {
      "text/plain": [
       "'6'"
      ]
     },
     "execution_count": 7,
     "metadata": {},
     "output_type": "execute_result"
    }
   ],
   "source": [
    "s_id[9]"
   ]
  },
  {
   "cell_type": "code",
   "execution_count": 8,
   "metadata": {},
   "outputs": [
    {
     "data": {
      "text/plain": [
       "'26'"
      ]
     },
     "execution_count": 8,
     "metadata": {},
     "output_type": "execute_result"
    }
   ],
   "source": [
    "s_id[8:10]"
   ]
  },
  {
   "cell_type": "code",
   "execution_count": 10,
   "metadata": {},
   "outputs": [
    {
     "data": {
      "text/plain": [
       "'526'"
      ]
     },
     "execution_count": 10,
     "metadata": {},
     "output_type": "execute_result"
    }
   ],
   "source": [
    "s_id[-3:]"
   ]
  },
  {
   "cell_type": "code",
   "execution_count": 12,
   "metadata": {},
   "outputs": [
    {
     "data": {
      "text/plain": [
       "'12345'"
      ]
     },
     "execution_count": 12,
     "metadata": {},
     "output_type": "execute_result"
    }
   ],
   "source": [
    "s_id[3:8]"
   ]
  },
  {
   "cell_type": "code",
   "execution_count": 14,
   "metadata": {},
   "outputs": [
    {
     "data": {
      "text/plain": [
       "'64242'"
      ]
     },
     "execution_count": 14,
     "metadata": {},
     "output_type": "execute_result"
    }
   ],
   "source": [
    "s_id[::2]"
   ]
  },
  {
   "cell_type": "code",
   "execution_count": 15,
   "metadata": {},
   "outputs": [
    {
     "data": {
      "text/plain": [
       "'6541234526'"
      ]
     },
     "execution_count": 15,
     "metadata": {},
     "output_type": "execute_result"
    }
   ],
   "source": [
    "s_id"
   ]
  },
  {
   "cell_type": "markdown",
   "metadata": {},
   "source": [
    "## while loop/for loop + string\n"
   ]
  },
  {
   "cell_type": "code",
   "execution_count": 76,
   "metadata": {},
   "outputs": [
    {
     "data": {
      "text/plain": [
       "6"
      ]
     },
     "execution_count": 76,
     "metadata": {},
     "output_type": "execute_result"
    }
   ],
   "source": [
    "s_id = \"6541234526\"\n",
    "int(s_id[0])"
   ]
  },
  {
   "cell_type": "code",
   "execution_count": 77,
   "metadata": {},
   "outputs": [
    {
     "name": "stdout",
     "output_type": "stream",
     "text": [
      "6\n",
      "5\n",
      "4\n",
      "1\n",
      "2\n",
      "3\n",
      "4\n",
      "5\n",
      "2\n",
      "6\n"
     ]
    }
   ],
   "source": [
    "n = 0\n",
    "while n < len(s_id):\n",
    "    print(s_id[n])\n",
    "    n += 1"
   ]
  },
  {
   "cell_type": "code",
   "execution_count": 78,
   "metadata": {},
   "outputs": [
    {
     "name": "stdout",
     "output_type": "stream",
     "text": [
      "6-5-4-1-2-3-4-5-2-6-\n",
      "38\n"
     ]
    }
   ],
   "source": [
    "s_id = \"654 12345-26\"\n",
    "n = 0\n",
    "total = 0\n",
    "while n < len(s_id):\n",
    "    if s_id[n].isnumeric():\n",
    "        print(s_id[n], end=\"-\")  # \\n = new line\n",
    "        total += int(s_id[n])\n",
    "    n += 1\n",
    "print()\n",
    "print(total)"
   ]
  },
  {
   "cell_type": "code",
   "execution_count": 79,
   "metadata": {},
   "outputs": [
    {
     "name": "stdout",
     "output_type": "stream",
     "text": [
      "6-5-4-1-2-3-4-5-2-6-\n",
      "38\n"
     ]
    }
   ],
   "source": [
    "s_id = \"๖๕๔๑๒๓๔๕๒๖\"\n",
    "n = 0\n",
    "total = 0\n",
    "while n < len(s_id):\n",
    "    en_num = chr(int(ord(s_id[n]) - (ord(\"๐\") - ord(\"0\"))))  # '6'\n",
    "    print(en_num, end=\"-\")  # \\n = new line\n",
    "    total += int(en_num)\n",
    "    n += 1\n",
    "print()\n",
    "print(total)"
   ]
  },
  {
   "cell_type": "code",
   "execution_count": 80,
   "metadata": {},
   "outputs": [
    {
     "name": "stdout",
     "output_type": "stream",
     "text": [
      "๖-๕-๔-๑-๒-๓-๔-๕-๒-๖-\n",
      "38\n"
     ]
    }
   ],
   "source": [
    "s_id = \"๖๕๔๑๒๓๔๕๒๖\"\n",
    "n = 0\n",
    "total = 0\n",
    "while n < len(s_id):\n",
    "    if s_id[n].isnumeric():\n",
    "        print(s_id[n], end=\"-\")  # \\n = new line\n",
    "        total += int(s_id[n])\n",
    "    n += 1\n",
    "print()\n",
    "print(total)"
   ]
  },
  {
   "cell_type": "code",
   "execution_count": 83,
   "metadata": {},
   "outputs": [
    {
     "name": "stdout",
     "output_type": "stream",
     "text": [
      "[9, 18, 27, 36, 45, 54, 63, 72, 81, 90, 108, 117, 126, 135, 144, 153, 162, 171, 180, 207, 216, 225, 234, 243, 252, 261, 270, 306, 315, 324, 333, 342, 351, 360, 405, 414, 423, 432, 441, 450, 504, 513, 522, 531, 540, 603, 612, 621, 630, 702, 711, 720, 801, 810, 900]\n",
      "found 55 numbers\n"
     ]
    }
   ],
   "source": [
    "result = []\n",
    "for number in range(1, 1001):\n",
    "    number_str = str(number)\n",
    "    digit_sum = sum(int(digit) for digit in number_str)\n",
    "    if digit_sum == 9:\n",
    "        result.append(number)\n",
    "\n",
    "print(result)\n",
    "print(f\"found {len(result)} numbers\")"
   ]
  },
  {
   "cell_type": "code",
   "execution_count": 84,
   "metadata": {},
   "outputs": [
    {
     "name": "stdout",
     "output_type": "stream",
     "text": [
      "9 18 27 36 45 54 63 72 81 90 108 117 126 135 144 153 162 171 180 207 216 225 234 243 252 261 270 306 315 324 333 342 351 360 405 414 423 432 441 450 504 513 522 531 540 603 612 621 630 702 711 720 801 810 900 \n",
      " 55\n"
     ]
    }
   ],
   "source": [
    "a = 0\n",
    "for i in range(1000):\n",
    "    t = 0\n",
    "    for j in str(i):\n",
    "        t += int(j)\n",
    "    if t == 9:\n",
    "        print(i, end=\" \")\n",
    "        a += 1\n",
    "print(\"\\n\", a)"
   ]
  },
  {
   "cell_type": "code",
   "execution_count": null,
   "metadata": {},
   "outputs": [
    {
     "name": "stdout",
     "output_type": "stream",
     "text": [
      "9\n"
     ]
    }
   ],
   "source": [
    "t = 0\n",
    "for j in \"540\":\n",
    "    t += int(j)\n",
    "print(t)"
   ]
  },
  {
   "cell_type": "code",
   "execution_count": 60,
   "metadata": {},
   "outputs": [
    {
     "name": "stdout",
     "output_type": "stream",
     "text": [
      "9\n",
      "18\n",
      "27\n",
      "36\n",
      "45\n",
      "54\n",
      "63\n",
      "72\n",
      "81\n",
      "90\n",
      "108\n",
      "117\n",
      "126\n",
      "135\n",
      "144\n",
      "153\n",
      "162\n",
      "171\n",
      "180\n",
      "207\n",
      "216\n",
      "225\n",
      "234\n",
      "243\n",
      "252\n",
      "261\n",
      "270\n",
      "306\n",
      "315\n",
      "324\n",
      "333\n",
      "342\n",
      "351\n",
      "360\n",
      "405\n",
      "414\n",
      "423\n",
      "432\n",
      "441\n",
      "450\n",
      "504\n",
      "513\n",
      "522\n",
      "531\n",
      "540\n",
      "603\n",
      "612\n",
      "621\n",
      "630\n",
      "702\n",
      "711\n",
      "720\n",
      "801\n",
      "810\n",
      "900\n",
      "55\n"
     ]
    }
   ],
   "source": [
    "number = 0\n",
    "count = 0\n",
    "while number < 1000:\n",
    "    if len(str(number)) == 1:\n",
    "        ones = number % 10\n",
    "        if ones == 9:\n",
    "            print(number)\n",
    "            count += 1\n",
    "    elif len(str(number)) == 2:\n",
    "        tens = (number // 10) % 10\n",
    "        ones = number % 10\n",
    "        if tens + ones == 9:\n",
    "            print(number)\n",
    "            count += 1\n",
    "    elif len(str(number)) == 3:\n",
    "        hundreds = (number // 100) % 10\n",
    "        tens = (number // 10) % 10\n",
    "        ones = number % 10\n",
    "        if hundreds + tens + ones == 9:\n",
    "            print(number)\n",
    "            count += 1\n",
    "    number += 1\n",
    "print(count)"
   ]
  },
  {
   "cell_type": "code",
   "execution_count": 86,
   "metadata": {},
   "outputs": [],
   "source": [
    "name = \"ชยุต จันทร์พร\"  # True\n",
    "name = \"Chayut จันทร์พร\"  # False"
   ]
  },
  {
   "cell_type": "code",
   "execution_count": 66,
   "metadata": {},
   "outputs": [
    {
     "name": "stdout",
     "output_type": "stream",
     "text": [
      "True\n"
     ]
    }
   ],
   "source": [
    "name = \"ชยุต จันทร์พร \"\n",
    "\n",
    "if not name.isascii():\n",
    "    print(\"True\")\n",
    "else:\n",
    "    print(\"False\")"
   ]
  },
  {
   "cell_type": "code",
   "execution_count": 89,
   "metadata": {},
   "outputs": [
    {
     "name": "stdout",
     "output_type": "stream",
     "text": [
      "True\n"
     ]
    }
   ],
   "source": [
    "name = \"ชยุด จันทร์พร\"\n",
    "\n",
    "def thai_(name):\n",
    "    i = 0\n",
    "    while i < len(name):\n",
    "        if 0x0E01 <= ord(name[i]) <= 0x0E5B:\n",
    "            return True\n",
    "        i += 1\n",
    "    return False\n",
    "\n",
    "\n",
    "result = thai_(name)\n",
    "print(result)"
   ]
  },
  {
   "cell_type": "code",
   "execution_count": 90,
   "metadata": {},
   "outputs": [
    {
     "name": "stdout",
     "output_type": "stream",
     "text": [
      "False\n"
     ]
    }
   ],
   "source": [
    "name = \"ชcยุต จันทร์พร\"\n",
    "index = 0\n",
    "output = True\n",
    "while index < len(name):\n",
    "    if ord(\"ก\") <= ord(name[index]) <= ord(\"๚\") or name[index] == \" \":\n",
    "        output = output and True\n",
    "    else:\n",
    "        output = output and False\n",
    "    index += 1\n",
    "print(output)"
   ]
  },
  {
   "cell_type": "code",
   "execution_count": 92,
   "metadata": {},
   "outputs": [
    {
     "name": "stdout",
     "output_type": "stream",
     "text": [
      "True\n"
     ]
    }
   ],
   "source": [
    "# name = \"ชcยุต จันทร์พร\"\n",
    "name = \"ชยุต จันทร์พร\"\n",
    "index = 0\n",
    "output = True\n",
    "while index < len(name):\n",
    "    if ord(\"ก\") <= ord(name[index]) <= ord(\"๚\") or name[index] == \" \":\n",
    "        output = output and True\n",
    "    else:\n",
    "        output = output and False\n",
    "        break\n",
    "    index += 1\n",
    "print(output)"
   ]
  },
  {
   "cell_type": "code",
   "execution_count": null,
   "metadata": {},
   "outputs": [],
   "source": []
  }
 ],
 "metadata": {
  "kernelspec": {
   "display_name": "base",
   "language": "python",
   "name": "python3"
  },
  "language_info": {
   "codemirror_mode": {
    "name": "ipython",
    "version": 3
   },
   "file_extension": ".py",
   "mimetype": "text/x-python",
   "name": "python",
   "nbconvert_exporter": "python",
   "pygments_lexer": "ipython3",
   "version": "3.9.17"
  }
 },
 "nbformat": 4,
 "nbformat_minor": 2
}
