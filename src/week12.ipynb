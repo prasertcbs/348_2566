{
 "cells": [
  {
   "cell_type": "code",
   "execution_count": 66,
   "metadata": {},
   "outputs": [
    {
     "data": {
      "text/plain": [
       "20"
      ]
     },
     "execution_count": 66,
     "metadata": {},
     "output_type": "execute_result"
    }
   ],
   "source": [
    "4*5"
   ]
  },
  {
   "cell_type": "code",
   "execution_count": 67,
   "metadata": {},
   "outputs": [
    {
     "data": {
      "text/plain": [
       "20"
      ]
     },
     "execution_count": 67,
     "metadata": {},
     "output_type": "execute_result"
    }
   ],
   "source": [
    "a=4\n",
    "b=5\n",
    "a * b"
   ]
  },
  {
   "cell_type": "code",
   "execution_count": 68,
   "metadata": {},
   "outputs": [
    {
     "data": {
      "text/plain": [
       "20"
      ]
     },
     "execution_count": 68,
     "metadata": {},
     "output_type": "execute_result"
    }
   ],
   "source": [
    "width = 4\n",
    "height = 5\n",
    "width * height"
   ]
  },
  {
   "cell_type": "markdown",
   "metadata": {},
   "source": [
    "# how to design function"
   ]
  },
  {
   "cell_type": "code",
   "execution_count": 69,
   "metadata": {},
   "outputs": [],
   "source": [
    "def rectangle(width, height):\n",
    "    return width * height"
   ]
  },
  {
   "cell_type": "code",
   "execution_count": 70,
   "metadata": {},
   "outputs": [],
   "source": [
    "def rectangle2(width, height):\n",
    "    if (width > 0) and (height > 0):\n",
    "        return width * height\n",
    "    return \"#VALUE!\""
   ]
  },
  {
   "cell_type": "code",
   "execution_count": 71,
   "metadata": {},
   "outputs": [
    {
     "data": {
      "text/plain": [
       "20"
      ]
     },
     "execution_count": 71,
     "metadata": {},
     "output_type": "execute_result"
    }
   ],
   "source": [
    "area = rectangle(4, 5)\n",
    "area"
   ]
  },
  {
   "cell_type": "code",
   "execution_count": 72,
   "metadata": {},
   "outputs": [],
   "source": [
    "def triangle(base, height):\n",
    "    # return .5 * base * height\n",
    "    return .5 * rectangle2(base, height)"
   ]
  },
  {
   "cell_type": "code",
   "execution_count": 73,
   "metadata": {},
   "outputs": [
    {
     "data": {
      "text/plain": [
       "10.0"
      ]
     },
     "execution_count": 73,
     "metadata": {},
     "output_type": "execute_result"
    }
   ],
   "source": [
    "triangle(4, 5)"
   ]
  },
  {
   "cell_type": "code",
   "execution_count": 74,
   "metadata": {},
   "outputs": [
    {
     "ename": "SyntaxError",
     "evalue": "expected ':' (348428226.py, line 2)",
     "output_type": "error",
     "traceback": [
      "\u001b[1;36m  Cell \u001b[1;32mIn[74], line 2\u001b[1;36m\u001b[0m\n\u001b[1;33m    if (side > 0)\u001b[0m\n\u001b[1;37m                 ^\u001b[0m\n\u001b[1;31mSyntaxError\u001b[0m\u001b[1;31m:\u001b[0m expected ':'\n"
     ]
    }
   ],
   "source": [
    "def square(side):\n",
    "    if (side > 0)\n",
    "        return side * side\n",
    "    return \"#VALUE!\""
   ]
  },
  {
   "cell_type": "code",
   "execution_count": null,
   "metadata": {},
   "outputs": [],
   "source": [
    "square(4)"
   ]
  },
  {
   "cell_type": "code",
   "execution_count": null,
   "metadata": {},
   "outputs": [],
   "source": [
    "def square2(side):\n",
    "    return rectangle2(side, side)"
   ]
  },
  {
   "cell_type": "code",
   "execution_count": null,
   "metadata": {},
   "outputs": [],
   "source": [
    "square2(4)"
   ]
  },
  {
   "cell_type": "markdown",
   "metadata": {},
   "source": [
    "# mid, left, right functions in Excel"
   ]
  },
  {
   "cell_type": "code",
   "execution_count": null,
   "metadata": {},
   "outputs": [],
   "source": [
    "def mid(text, start_num, num_chars):\n",
    "    return text[start_num-1:start_num+num_chars-1]\n",
    "\n",
    "def left(text, num_chars):\n",
    "    return mid(text, 1, 4)\n",
    "\n",
    "\n",
    "def right(text, num_chars):\n",
    "    start=len(text)-num_chars+1\n",
    "    return mid(text, start, num_chars)\n",
    "\n",
    "\n",
    "text = \"rainbow\"\n",
    "print(mid(text, 3, 2)) # in\n",
    "left(text, 4)\n",
    "right(text, 3) # bow"
   ]
  },
  {
   "cell_type": "code",
   "execution_count": null,
   "metadata": {},
   "outputs": [],
   "source": [
    "def turn_left():\n",
    "    pass\n",
    "\n",
    "def turn_right():\n",
    "    for _ in range(3):\n",
    "        turn_left()\n",
    "\n",
    "    "
   ]
  },
  {
   "cell_type": "code",
   "execution_count": null,
   "metadata": {},
   "outputs": [],
   "source": [
    "def is_even(n):\n",
    "    return True if n % 2 == 0 else False"
   ]
  },
  {
   "cell_type": "code",
   "execution_count": null,
   "metadata": {},
   "outputs": [],
   "source": [
    "is_even(5)\n"
   ]
  },
  {
   "cell_type": "code",
   "execution_count": null,
   "metadata": {},
   "outputs": [],
   "source": [
    "def is_odd(n):\n",
    "    # return True if n % 2 != 0 else False\n",
    "    return not is_even(n)"
   ]
  },
  {
   "cell_type": "code",
   "execution_count": null,
   "metadata": {},
   "outputs": [],
   "source": [
    "is_odd(5)"
   ]
  },
  {
   "cell_type": "markdown",
   "metadata": {},
   "source": [
    "# to upper case"
   ]
  },
  {
   "cell_type": "code",
   "execution_count": null,
   "metadata": {},
   "outputs": [],
   "source": [
    "def to_upper(ch):\n",
    "    return chr(ord(ch)-32) if 'a' <= ch <= 'z' else ch\n",
    "\n",
    "# print(to_upper('1'))\n",
    "print(to_upper('a'))\n",
    "print(to_upper('b'))"
   ]
  },
  {
   "cell_type": "code",
   "execution_count": null,
   "metadata": {},
   "outputs": [],
   "source": [
    "ord('a')"
   ]
  },
  {
   "cell_type": "code",
   "execution_count": null,
   "metadata": {},
   "outputs": [],
   "source": [
    "chr(97)"
   ]
  },
  {
   "cell_type": "code",
   "execution_count": null,
   "metadata": {},
   "outputs": [],
   "source": [
    "ord('A')"
   ]
  },
  {
   "cell_type": "code",
   "execution_count": null,
   "metadata": {},
   "outputs": [],
   "source": [
    "-84.2 % 1"
   ]
  },
  {
   "cell_type": "code",
   "execution_count": null,
   "metadata": {},
   "outputs": [],
   "source": [
    "84 % 1"
   ]
  },
  {
   "cell_type": "markdown",
   "metadata": {},
   "source": [
    "# grade"
   ]
  },
  {
   "cell_type": "code",
   "execution_count": null,
   "metadata": {},
   "outputs": [],
   "source": [
    "def roundup(n):\n",
    "    if n % 1 == 0:\n",
    "        return n\n",
    "    return n + 1\n",
    "\n",
    "def score_to_letter_grade(score):\n",
    "    # score = roundup(score)\n",
    "    score = score if score % 1 == 0 else score + 1\n",
    "    if score >= 85:\n",
    "        return 'A'\n",
    "    elif score >= 80:\n",
    "        return 'B+'\n",
    "    elif score >= 75:\n",
    "        return 'B'\n",
    "    elif score >= 70:\n",
    "        return 'C+'\n",
    "    elif score >= 60:\n",
    "        return 'C'\n",
    "    elif score >= 55:\n",
    "        return 'D+'\n",
    "    elif score >= 50:\n",
    "        return 'D'\n",
    "    else:\n",
    "        return 'F'"
   ]
  },
  {
   "cell_type": "code",
   "execution_count": null,
   "metadata": {},
   "outputs": [],
   "source": [
    "score_to_letter_grade(74.1)"
   ]
  },
  {
   "cell_type": "code",
   "execution_count": null,
   "metadata": {},
   "outputs": [],
   "source": [
    "scores = [85, 75, 70, 65, 60, 55, 50, 45]\n",
    "for score in scores:\n",
    "    print(f'score: {score} -> {score_to_letter_grade(score)}')"
   ]
  },
  {
   "cell_type": "code",
   "execution_count": null,
   "metadata": {},
   "outputs": [],
   "source": [
    "scores = range(45, 101)\n",
    "for score in scores:\n",
    "    print(f\"score: {score} -> {score_to_letter_grade(score)}\")"
   ]
  },
  {
   "cell_type": "markdown",
   "metadata": {},
   "source": [
    "# price parts"
   ]
  },
  {
   "cell_type": "code",
   "execution_count": null,
   "metadata": {},
   "outputs": [],
   "source": [
    "def price_part(price_vat):\n",
    "    price = price_vat / 1.07\n",
    "    vat = price_vat - price\n",
    "    return price, vat\n",
    "\n",
    "def vat_part(price_vat):\n",
    "    return price_vat * 7/107\n",
    "\n",
    "price_part(107)\n",
    "vat_part(107)"
   ]
  },
  {
   "cell_type": "code",
   "execution_count": null,
   "metadata": {},
   "outputs": [],
   "source": [
    "x=price_part(107)\n",
    "x"
   ]
  },
  {
   "cell_type": "code",
   "execution_count": null,
   "metadata": {},
   "outputs": [],
   "source": [
    "x[0]"
   ]
  },
  {
   "cell_type": "code",
   "execution_count": null,
   "metadata": {},
   "outputs": [],
   "source": [
    "x[1]"
   ]
  },
  {
   "cell_type": "code",
   "execution_count": null,
   "metadata": {},
   "outputs": [],
   "source": [
    "price, vat = price_part(107)\n",
    "print(price)\n",
    "print(vat)"
   ]
  },
  {
   "cell_type": "markdown",
   "metadata": {},
   "source": [
    "# split first and last name"
   ]
  },
  {
   "cell_type": "code",
   "execution_count": null,
   "metadata": {},
   "outputs": [],
   "source": [
    "def split_name(full_name):\n",
    "    first_name, last_name = full_name.split(' ')\n",
    "    return first_name, last_name"
   ]
  },
  {
   "cell_type": "code",
   "execution_count": null,
   "metadata": {},
   "outputs": [],
   "source": [
    "name = 'Peter Parker'\n",
    "split_name(name)"
   ]
  },
  {
   "cell_type": "code",
   "execution_count": null,
   "metadata": {},
   "outputs": [],
   "source": [
    "def get_first_name(full_name):\n",
    "    # first_name, last_name = full_name.split(\" \")\n",
    "    return split_name(full_name)[0]\n",
    "\n",
    "def get_last_name(full_name):\n",
    "    # first_name, last_name = full_name.split(\" \")\n",
    "    # return last_name\n",
    "    return split_name(full_name)[1]\n",
    "\n",
    "def get_initial(full_name):\n",
    "    f, l = split_name(full_name=)\n",
    "    return f[0] + l[0]"
   ]
  },
  {
   "cell_type": "markdown",
   "metadata": {},
   "source": [
    "# distance"
   ]
  },
  {
   "cell_type": "code",
   "execution_count": null,
   "metadata": {},
   "outputs": [],
   "source": [
    "# (1, 2), (4, 10)\n",
    "\n",
    "def distance(x1, y1, x2, y2):\n",
    "    return ((x1-x2)**2 + (y1-y2)**2) ** .5\n",
    "\n",
    "distance(1, 2, 4, 10)"
   ]
  },
  {
   "cell_type": "code",
   "execution_count": null,
   "metadata": {},
   "outputs": [],
   "source": [
    "def distance2(p1, p2):\n",
    "    x1, y1 = p1\n",
    "    x2, y2 = p2\n",
    "    return ((x1-x2)**2 + (y1-y2)**2) ** .5\n",
    "    # return ((p1[0]-p2[0])**2 + (p1[1]-p2[1])**2) ** .5\n",
    "\n",
    "distance2((1,2), (4,10))"
   ]
  },
  {
   "cell_type": "code",
   "execution_count": null,
   "metadata": {},
   "outputs": [],
   "source": []
  }
 ],
 "metadata": {
  "kernelspec": {
   "display_name": "classroom",
   "language": "python",
   "name": "python3"
  },
  "language_info": {
   "codemirror_mode": {
    "name": "ipython",
    "version": 3
   },
   "file_extension": ".py",
   "mimetype": "text/x-python",
   "name": "python",
   "nbconvert_exporter": "python",
   "pygments_lexer": "ipython3",
   "version": "3.12.2"
  }
 },
 "nbformat": 4,
 "nbformat_minor": 2
}
