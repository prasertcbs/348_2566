{
 "cells": [
  {
   "cell_type": "code",
   "execution_count": 6,
   "metadata": {},
   "outputs": [
    {
     "name": "stdout",
     "output_type": "stream",
     "text": [
      "total sales = 450\n"
     ]
    }
   ],
   "source": [
    "quarter_sales = [100, 150, 80, 120] \n",
    "total_sales = sum(quarter_sales) \n",
    "print(f\"total sales = {total_sales}\")"
   ]
  },
  {
   "cell_type": "code",
   "execution_count": 7,
   "metadata": {},
   "outputs": [
    {
     "name": "stdout",
     "output_type": "stream",
     "text": [
      "total sales = 450\n"
     ]
    }
   ],
   "source": [
    "\n",
    "quarter_sales = [100, 150, 80, 120] \n",
    "total_sales = sum(quarter_sales) \n",
    "print(f\"total sales = {total_sales}\")"
   ]
  },
  {
   "cell_type": "code",
   "execution_count": 8,
   "metadata": {},
   "outputs": [
    {
     "data": {
      "text/plain": [
       "150"
      ]
     },
     "execution_count": 8,
     "metadata": {},
     "output_type": "execute_result"
    }
   ],
   "source": [
    "max(quarter_sales)"
   ]
  },
  {
   "cell_type": "code",
   "execution_count": 9,
   "metadata": {},
   "outputs": [
    {
     "data": {
      "text/plain": [
       "[80, 100, 120, 150]"
      ]
     },
     "execution_count": 9,
     "metadata": {},
     "output_type": "execute_result"
    }
   ],
   "source": [
    "sort_sales = sorted(quarter_sales, reverse=False)\n",
    "sort_sales"
   ]
  },
  {
   "cell_type": "code",
   "execution_count": 10,
   "metadata": {},
   "outputs": [
    {
     "data": {
      "text/plain": [
       "4"
      ]
     },
     "execution_count": 10,
     "metadata": {},
     "output_type": "execute_result"
    }
   ],
   "source": [
    "len(quarter_sales)"
   ]
  },
  {
   "cell_type": "code",
   "execution_count": 11,
   "metadata": {},
   "outputs": [
    {
     "data": {
      "text/plain": [
       "112.5"
      ]
     },
     "execution_count": 11,
     "metadata": {},
     "output_type": "execute_result"
    }
   ],
   "source": [
    "sum(quarter_sales)/len(quarter_sales)"
   ]
  },
  {
   "cell_type": "code",
   "execution_count": 12,
   "metadata": {},
   "outputs": [],
   "source": [
    "def avg(lst):\n",
    "    return sum(lst) / len(lst)"
   ]
  },
  {
   "cell_type": "code",
   "execution_count": 13,
   "metadata": {},
   "outputs": [
    {
     "data": {
      "text/plain": [
       "112.5"
      ]
     },
     "execution_count": 13,
     "metadata": {},
     "output_type": "execute_result"
    }
   ],
   "source": [
    "avg(quarter_sales)"
   ]
  },
  {
   "cell_type": "code",
   "execution_count": 14,
   "metadata": {},
   "outputs": [
    {
     "name": "stdout",
     "output_type": "stream",
     "text": [
      "3 10\n"
     ]
    }
   ],
   "source": [
    "p1 = [3, 10]\n",
    "x, y = p1 # p1[0], p1[1]\n",
    "print(x, y)"
   ]
  },
  {
   "cell_type": "code",
   "execution_count": 15,
   "metadata": {},
   "outputs": [
    {
     "data": {
      "text/plain": [
       "5"
      ]
     },
     "execution_count": 15,
     "metadata": {},
     "output_type": "execute_result"
    }
   ],
   "source": [
    "p1 = (5, 10) # tuple ()\n",
    "p2 = [1, 7] # list []\n",
    "p1[0]"
   ]
  },
  {
   "cell_type": "code",
   "execution_count": 16,
   "metadata": {},
   "outputs": [
    {
     "ename": "TypeError",
     "evalue": "'tuple' object does not support item assignment",
     "output_type": "error",
     "traceback": [
      "\u001b[0;31m---------------------------------------------------------------------------\u001b[0m",
      "\u001b[0;31mTypeError\u001b[0m                                 Traceback (most recent call last)",
      "Cell \u001b[0;32mIn[16], line 1\u001b[0m\n\u001b[0;32m----> 1\u001b[0m \u001b[43mp1\u001b[49m\u001b[43m[\u001b[49m\u001b[38;5;241;43m1\u001b[39;49m\u001b[43m]\u001b[49m \u001b[38;5;241m=\u001b[39m \u001b[38;5;241m101\u001b[39m\n\u001b[1;32m      2\u001b[0m p1[\u001b[38;5;241m1\u001b[39m]\n",
      "\u001b[0;31mTypeError\u001b[0m: 'tuple' object does not support item assignment"
     ]
    }
   ],
   "source": [
    "p1[1] = 101\n",
    "p1[1]"
   ]
  },
  {
   "cell_type": "code",
   "execution_count": null,
   "metadata": {},
   "outputs": [
    {
     "data": {
      "text/plain": [
       "789"
      ]
     },
     "execution_count": 17,
     "metadata": {},
     "output_type": "execute_result"
    }
   ],
   "source": [
    "p2[0] = 789\n",
    "p2[0]"
   ]
  },
  {
   "cell_type": "code",
   "execution_count": null,
   "metadata": {},
   "outputs": [
    {
     "data": {
      "text/plain": [
       "[789, 7]"
      ]
     },
     "execution_count": 18,
     "metadata": {},
     "output_type": "execute_result"
    }
   ],
   "source": [
    "p2"
   ]
  },
  {
   "cell_type": "code",
   "execution_count": null,
   "metadata": {},
   "outputs": [
    {
     "data": {
      "text/plain": [
       "(5, 10)"
      ]
     },
     "execution_count": 19,
     "metadata": {},
     "output_type": "execute_result"
    }
   ],
   "source": [
    "p1 = (5, 10)\n",
    "p1"
   ]
  },
  {
   "cell_type": "code",
   "execution_count": null,
   "metadata": {},
   "outputs": [
    {
     "data": {
      "text/plain": [
       "(7, 8)"
      ]
     },
     "execution_count": 20,
     "metadata": {},
     "output_type": "execute_result"
    }
   ],
   "source": [
    "p1 = (7, 8)\n",
    "p1"
   ]
  },
  {
   "cell_type": "code",
   "execution_count": null,
   "metadata": {},
   "outputs": [
    {
     "data": {
      "text/plain": [
       "'p'"
      ]
     },
     "execution_count": 24,
     "metadata": {},
     "output_type": "execute_result"
    }
   ],
   "source": [
    "name = \"peter\"\n",
    "name[0]"
   ]
  },
  {
   "cell_type": "code",
   "execution_count": null,
   "metadata": {},
   "outputs": [
    {
     "data": {
      "text/plain": [
       "['p', 'e', 't', 'e', 'r']"
      ]
     },
     "execution_count": 25,
     "metadata": {},
     "output_type": "execute_result"
    }
   ],
   "source": [
    "names = list(name)\n",
    "names"
   ]
  },
  {
   "cell_type": "code",
   "execution_count": null,
   "metadata": {},
   "outputs": [
    {
     "data": {
      "text/plain": [
       "['P', 'e', 't', 'e', 'r']"
      ]
     },
     "execution_count": 26,
     "metadata": {},
     "output_type": "execute_result"
    }
   ],
   "source": [
    "names[0] = 'P'\n",
    "names"
   ]
  },
  {
   "cell_type": "code",
   "execution_count": null,
   "metadata": {},
   "outputs": [
    {
     "data": {
      "text/plain": [
       "'Peter'"
      ]
     },
     "execution_count": 29,
     "metadata": {},
     "output_type": "execute_result"
    }
   ],
   "source": [
    "''.join(names)"
   ]
  },
  {
   "cell_type": "code",
   "execution_count": null,
   "metadata": {},
   "outputs": [
    {
     "ename": "TypeError",
     "evalue": "'str' object does not support item assignment",
     "output_type": "error",
     "traceback": [
      "\u001b[0;31m---------------------------------------------------------------------------\u001b[0m",
      "\u001b[0;31mTypeError\u001b[0m                                 Traceback (most recent call last)",
      "Cell \u001b[0;32mIn[22], line 1\u001b[0m\n\u001b[0;32m----> 1\u001b[0m \u001b[43mname\u001b[49m\u001b[43m[\u001b[49m\u001b[38;5;241;43m0\u001b[39;49m\u001b[43m]\u001b[49m\u001b[38;5;241m=\u001b[39m\u001b[38;5;124m'\u001b[39m\u001b[38;5;124mP\u001b[39m\u001b[38;5;124m'\u001b[39m\n",
      "\u001b[0;31mTypeError\u001b[0m: 'str' object does not support item assignment"
     ]
    }
   ],
   "source": [
    "name[0]='P'"
   ]
  },
  {
   "cell_type": "code",
   "execution_count": null,
   "metadata": {},
   "outputs": [
    {
     "data": {
      "text/plain": [
       "'Peter'"
      ]
     },
     "execution_count": 30,
     "metadata": {},
     "output_type": "execute_result"
    }
   ],
   "source": [
    "name='Peter'\n",
    "name"
   ]
  },
  {
   "cell_type": "code",
   "execution_count": null,
   "metadata": {},
   "outputs": [
    {
     "data": {
      "text/plain": [
       "'Peter parker'"
      ]
     },
     "execution_count": 31,
     "metadata": {},
     "output_type": "execute_result"
    }
   ],
   "source": [
    "name = name + ' parker'\n",
    "name"
   ]
  },
  {
   "cell_type": "code",
   "execution_count": 17,
   "metadata": {},
   "outputs": [],
   "source": [
    "menus = [\n",
    "    [\"espresso\", 40, 50, 60],\n",
    "    [\"mocha\", 70, 90, 110],\n",
    "    [\"latte\", 80, 100, 120],\n",
    "]"
   ]
  },
  {
   "cell_type": "code",
   "execution_count": null,
   "metadata": {},
   "outputs": [
    {
     "data": {
      "text/plain": [
       "(63.333333333333336, 80.0, 96.66666666666667)"
      ]
     },
     "execution_count": 35,
     "metadata": {},
     "output_type": "execute_result"
    }
   ],
   "source": [
    "avg_small = (menus[0][1] + menus[1][1] + menus[2][1]) / 3\n",
    "avg_medium = (menus[0][2] + menus[1][2] + menus[2][2]) / 3\n",
    "avg_large = (menus[0][3] + menus[1][3] + menus[2][3]) / 3\n",
    "avg_small, avg_medium, avg_large"
   ]
  },
  {
   "cell_type": "code",
   "execution_count": null,
   "metadata": {},
   "outputs": [
    {
     "ename": "NameError",
     "evalue": "name 'menus' is not defined",
     "output_type": "error",
     "traceback": [
      "\u001b[0;31m---------------------------------------------------------------------------\u001b[0m",
      "\u001b[0;31mNameError\u001b[0m                                 Traceback (most recent call last)",
      "Cell \u001b[0;32mIn[1], line 1\u001b[0m\n\u001b[0;32m----> 1\u001b[0m \u001b[43mmenus\u001b[49m\n",
      "\u001b[0;31mNameError\u001b[0m: name 'menus' is not defined"
     ]
    }
   ],
   "source": [
    "menus"
   ]
  },
  {
   "cell_type": "code",
   "execution_count": null,
   "metadata": {},
   "outputs": [
    {
     "ename": "NameError",
     "evalue": "name 'menus' is not defined",
     "output_type": "error",
     "traceback": [
      "\u001b[0;31m---------------------------------------------------------------------------\u001b[0m",
      "\u001b[0;31mNameError\u001b[0m                                 Traceback (most recent call last)",
      "Cell \u001b[0;32mIn[2], line 8\u001b[0m\n\u001b[1;32m      5\u001b[0m     \u001b[38;5;28;01mreturn\u001b[39;00m \u001b[38;5;28msum\u001b[39m(prices) \u001b[38;5;241m/\u001b[39m \u001b[38;5;28mlen\u001b[39m(prices)\n\u001b[1;32m      7\u001b[0m \u001b[38;5;28;01mfor\u001b[39;00m i, serving_size \u001b[38;5;129;01min\u001b[39;00m \u001b[38;5;28menumerate\u001b[39m([\u001b[38;5;124m\"\u001b[39m\u001b[38;5;124mSmall\u001b[39m\u001b[38;5;124m\"\u001b[39m, \u001b[38;5;124m\"\u001b[39m\u001b[38;5;124mMedium\u001b[39m\u001b[38;5;124m\"\u001b[39m, \u001b[38;5;124m\"\u001b[39m\u001b[38;5;124mLarge\u001b[39m\u001b[38;5;124m\"\u001b[39m], start\u001b[38;5;241m=\u001b[39m\u001b[38;5;241m1\u001b[39m):\n\u001b[0;32m----> 8\u001b[0m     \u001b[38;5;28mprint\u001b[39m(\u001b[38;5;124mf\u001b[39m\u001b[38;5;124m\"\u001b[39m\u001b[38;5;132;01m{\u001b[39;00mserving_size\u001b[38;5;132;01m:\u001b[39;00m\u001b[38;5;124m<7\u001b[39m\u001b[38;5;132;01m}\u001b[39;00m\u001b[38;5;124m (avg): \u001b[39m\u001b[38;5;132;01m{\u001b[39;00m\u001b[43mdont\u001b[49m\u001b[43m(\u001b[49m\u001b[43mi\u001b[49m\u001b[43m)\u001b[49m\u001b[38;5;132;01m:\u001b[39;00m\u001b[38;5;124m.2f\u001b[39m\u001b[38;5;132;01m}\u001b[39;00m\u001b[38;5;124m\"\u001b[39m)\n",
      "Cell \u001b[0;32mIn[2], line 3\u001b[0m, in \u001b[0;36mdont\u001b[0;34m(size)\u001b[0m\n\u001b[1;32m      1\u001b[0m \u001b[38;5;28;01mdef\u001b[39;00m \u001b[38;5;21mdont\u001b[39m(size):\n\u001b[1;32m      2\u001b[0m     prices \u001b[38;5;241m=\u001b[39m []  \u001b[38;5;66;03m# [40, 70, 80]\u001b[39;00m\n\u001b[0;32m----> 3\u001b[0m     \u001b[38;5;28;01mfor\u001b[39;00m menu \u001b[38;5;129;01min\u001b[39;00m \u001b[43mmenus\u001b[49m:\n\u001b[1;32m      4\u001b[0m         prices\u001b[38;5;241m.\u001b[39mappend(menu[size])\n\u001b[1;32m      5\u001b[0m     \u001b[38;5;28;01mreturn\u001b[39;00m \u001b[38;5;28msum\u001b[39m(prices) \u001b[38;5;241m/\u001b[39m \u001b[38;5;28mlen\u001b[39m(prices)\n",
      "\u001b[0;31mNameError\u001b[0m: name 'menus' is not defined"
     ]
    }
   ],
   "source": [
    "def dont(size):\n",
    "    prices = []  # [40, 70, 80]\n",
    "    for menu in menus:\n",
    "        prices.append(menu[size])\n",
    "    return sum(prices) / len(prices)\n",
    "\n",
    "for i, serving_size in enumerate([\"Small\", \"Medium\", \"Large\"], start=1):\n",
    "    print(f\"{serving_size:<7} (avg): {dont(i):.2f}\")"
   ]
  },
  {
   "cell_type": "code",
   "execution_count": 20,
   "metadata": {},
   "outputs": [
    {
     "name": "stdout",
     "output_type": "stream",
     "text": [
      "Small   (avg): 63.33\n",
      "Medium  (avg): 80.00\n",
      "Large   (avg): 96.67\n"
     ]
    }
   ],
   "source": [
    "def avg_by_size(drinks, size):\n",
    "    prices = [] # [40, 70, 80]\n",
    "    for drink in drinks:\n",
    "        prices.append(drink[size])\n",
    "    return sum(prices) / len(prices)\n",
    "\n",
    "for i, serving_size in enumerate(['Small', 'Medium', 'Large'], start=1):\n",
    "    print(f'{serving_size:<7} (avg): {avg_by_size(menus, i):.2f}')"
   ]
  },
  {
   "cell_type": "code",
   "execution_count": 4,
   "metadata": {},
   "outputs": [
    {
     "data": {
      "text/plain": [
       "7.000000000000001"
      ]
     },
     "execution_count": 4,
     "metadata": {},
     "output_type": "execute_result"
    }
   ],
   "source": [
    "vat_rate = .07\n",
    "\n",
    "def calc_vat_from_price(price, v):\n",
    "    return price * v / (1 + v)\n",
    "\n",
    "calc_vat_from_price(107, vat_rate)"
   ]
  },
  {
   "cell_type": "code",
   "execution_count": 21,
   "metadata": {},
   "outputs": [],
   "source": [
    "lyrics = \"\"\"I stay out too late\n",
    "Got nothing in my brain\n",
    "That's what people say, mm-mm\n",
    "That's what people say, mm-mm\n",
    "I go on too many dates\n",
    "But I can't make 'em stay\n",
    "At least that's what people say, mm-mm\n",
    "That's what people say, mm-mm\n",
    "But I keep cruisin'\n",
    "Can't stop, won't stop movin'\n",
    "It's like I got this music in my mind\n",
    "Sayin' it's gonna be alright\n",
    "'Cause the players gonna play, play, play, play, play\n",
    "And the haters gonna hate, hate, hate, hate, hate\n",
    "Baby, I'm just gonna shake, shake, shake, shake, shake\n",
    "I shake it off, I shake it off (hoo-hoo-hoo)\n",
    "Heartbreakers gonna break, break, break, break, break\n",
    "And the fakers gonna fake, fake, fake, fake, fake\n",
    "Baby, I'm just gonna shake, shake, shake, shake, shake\n",
    "I shake it off, I shake it off (hoo-hoo-hoo)\n",
    "I never miss a beat\n",
    "I'm lightnin' on my feet\n",
    "And that's what they don't see, mm-mm\n",
    "That's what they don't see, mm-mm\n",
    "I'm dancin' on my own (dancin' on my own)\n",
    "I make the moves up as I go (moves up as I go)\n",
    "And that's what they don't know, mm-mm\n",
    "That's what they don't know, mm-mm\"\"\""
   ]
  },
  {
   "cell_type": "code",
   "execution_count": 25,
   "metadata": {},
   "outputs": [
    {
     "data": {
      "text/plain": [
       "['I',\n",
       " ' ',\n",
       " 'S',\n",
       " 'T',\n",
       " 'A',\n",
       " 'Y',\n",
       " ' ',\n",
       " 'O',\n",
       " 'U',\n",
       " 'T',\n",
       " ' ',\n",
       " 'T',\n",
       " 'O',\n",
       " 'O',\n",
       " ' ',\n",
       " 'L',\n",
       " 'A',\n",
       " 'T',\n",
       " 'E',\n",
       " '\\n',\n",
       " 'G',\n",
       " 'O',\n",
       " 'T',\n",
       " ' ',\n",
       " 'N',\n",
       " 'O',\n",
       " 'T',\n",
       " 'H',\n",
       " 'I',\n",
       " 'N',\n",
       " 'G',\n",
       " ' ',\n",
       " 'I',\n",
       " 'N',\n",
       " ' ',\n",
       " 'M',\n",
       " 'Y',\n",
       " ' ',\n",
       " 'B',\n",
       " 'R',\n",
       " 'A',\n",
       " 'I',\n",
       " 'N',\n",
       " '\\n',\n",
       " 'T',\n",
       " 'H',\n",
       " 'A',\n",
       " 'T',\n",
       " \"'\",\n",
       " 'S',\n",
       " ' ',\n",
       " 'W',\n",
       " 'H',\n",
       " 'A',\n",
       " 'T',\n",
       " ' ',\n",
       " 'P',\n",
       " 'E',\n",
       " 'O',\n",
       " 'P',\n",
       " 'L',\n",
       " 'E',\n",
       " ' ',\n",
       " 'S',\n",
       " 'A',\n",
       " 'Y',\n",
       " ',',\n",
       " ' ',\n",
       " 'M',\n",
       " 'M',\n",
       " '-',\n",
       " 'M',\n",
       " 'M',\n",
       " '\\n',\n",
       " 'T',\n",
       " 'H',\n",
       " 'A',\n",
       " 'T',\n",
       " \"'\",\n",
       " 'S',\n",
       " ' ',\n",
       " 'W',\n",
       " 'H',\n",
       " 'A',\n",
       " 'T',\n",
       " ' ',\n",
       " 'P',\n",
       " 'E',\n",
       " 'O',\n",
       " 'P',\n",
       " 'L',\n",
       " 'E',\n",
       " ' ',\n",
       " 'S',\n",
       " 'A',\n",
       " 'Y',\n",
       " ',',\n",
       " ' ',\n",
       " 'M',\n",
       " 'M',\n",
       " '-',\n",
       " 'M',\n",
       " 'M',\n",
       " '\\n',\n",
       " 'I',\n",
       " ' ',\n",
       " 'G',\n",
       " 'O',\n",
       " ' ',\n",
       " 'O',\n",
       " 'N',\n",
       " ' ',\n",
       " 'T',\n",
       " 'O',\n",
       " 'O',\n",
       " ' ',\n",
       " 'M',\n",
       " 'A',\n",
       " 'N',\n",
       " 'Y',\n",
       " ' ',\n",
       " 'D',\n",
       " 'A',\n",
       " 'T',\n",
       " 'E',\n",
       " 'S',\n",
       " '\\n',\n",
       " 'B',\n",
       " 'U',\n",
       " 'T',\n",
       " ' ',\n",
       " 'I',\n",
       " ' ',\n",
       " 'C',\n",
       " 'A',\n",
       " 'N',\n",
       " \"'\",\n",
       " 'T',\n",
       " ' ',\n",
       " 'M',\n",
       " 'A',\n",
       " 'K',\n",
       " 'E',\n",
       " ' ',\n",
       " \"'\",\n",
       " 'E',\n",
       " 'M',\n",
       " ' ',\n",
       " 'S',\n",
       " 'T',\n",
       " 'A',\n",
       " 'Y',\n",
       " '\\n',\n",
       " 'A',\n",
       " 'T',\n",
       " ' ',\n",
       " 'L',\n",
       " 'E',\n",
       " 'A',\n",
       " 'S',\n",
       " 'T',\n",
       " ' ',\n",
       " 'T',\n",
       " 'H',\n",
       " 'A',\n",
       " 'T',\n",
       " \"'\",\n",
       " 'S',\n",
       " ' ',\n",
       " 'W',\n",
       " 'H',\n",
       " 'A',\n",
       " 'T',\n",
       " ' ',\n",
       " 'P',\n",
       " 'E',\n",
       " 'O',\n",
       " 'P',\n",
       " 'L',\n",
       " 'E',\n",
       " ' ',\n",
       " 'S',\n",
       " 'A',\n",
       " 'Y',\n",
       " ',',\n",
       " ' ',\n",
       " 'M',\n",
       " 'M',\n",
       " '-',\n",
       " 'M',\n",
       " 'M',\n",
       " '\\n',\n",
       " 'T',\n",
       " 'H',\n",
       " 'A',\n",
       " 'T',\n",
       " \"'\",\n",
       " 'S',\n",
       " ' ',\n",
       " 'W',\n",
       " 'H',\n",
       " 'A',\n",
       " 'T',\n",
       " ' ',\n",
       " 'P',\n",
       " 'E',\n",
       " 'O',\n",
       " 'P',\n",
       " 'L',\n",
       " 'E',\n",
       " ' ',\n",
       " 'S',\n",
       " 'A',\n",
       " 'Y',\n",
       " ',',\n",
       " ' ',\n",
       " 'M',\n",
       " 'M',\n",
       " '-',\n",
       " 'M',\n",
       " 'M',\n",
       " '\\n',\n",
       " 'B',\n",
       " 'U',\n",
       " 'T',\n",
       " ' ',\n",
       " 'I',\n",
       " ' ',\n",
       " 'K',\n",
       " 'E',\n",
       " 'E',\n",
       " 'P',\n",
       " ' ',\n",
       " 'C',\n",
       " 'R',\n",
       " 'U',\n",
       " 'I',\n",
       " 'S',\n",
       " 'I',\n",
       " 'N',\n",
       " \"'\",\n",
       " '\\n',\n",
       " 'C',\n",
       " 'A',\n",
       " 'N',\n",
       " \"'\",\n",
       " 'T',\n",
       " ' ',\n",
       " 'S',\n",
       " 'T',\n",
       " 'O',\n",
       " 'P',\n",
       " ',',\n",
       " ' ',\n",
       " 'W',\n",
       " 'O',\n",
       " 'N',\n",
       " \"'\",\n",
       " 'T',\n",
       " ' ',\n",
       " 'S',\n",
       " 'T',\n",
       " 'O',\n",
       " 'P',\n",
       " ' ',\n",
       " 'M',\n",
       " 'O',\n",
       " 'V',\n",
       " 'I',\n",
       " 'N',\n",
       " \"'\",\n",
       " '\\n',\n",
       " 'I',\n",
       " 'T',\n",
       " \"'\",\n",
       " 'S',\n",
       " ' ',\n",
       " 'L',\n",
       " 'I',\n",
       " 'K',\n",
       " 'E',\n",
       " ' ',\n",
       " 'I',\n",
       " ' ',\n",
       " 'G',\n",
       " 'O',\n",
       " 'T',\n",
       " ' ',\n",
       " 'T',\n",
       " 'H',\n",
       " 'I',\n",
       " 'S',\n",
       " ' ',\n",
       " 'M',\n",
       " 'U',\n",
       " 'S',\n",
       " 'I',\n",
       " 'C',\n",
       " ' ',\n",
       " 'I',\n",
       " 'N',\n",
       " ' ',\n",
       " 'M',\n",
       " 'Y',\n",
       " ' ',\n",
       " 'M',\n",
       " 'I',\n",
       " 'N',\n",
       " 'D',\n",
       " '\\n',\n",
       " 'S',\n",
       " 'A',\n",
       " 'Y',\n",
       " 'I',\n",
       " 'N',\n",
       " \"'\",\n",
       " ' ',\n",
       " 'I',\n",
       " 'T',\n",
       " \"'\",\n",
       " 'S',\n",
       " ' ',\n",
       " 'G',\n",
       " 'O',\n",
       " 'N',\n",
       " 'N',\n",
       " 'A',\n",
       " ' ',\n",
       " 'B',\n",
       " 'E',\n",
       " ' ',\n",
       " 'A',\n",
       " 'L',\n",
       " 'R',\n",
       " 'I',\n",
       " 'G',\n",
       " 'H',\n",
       " 'T',\n",
       " '\\n',\n",
       " \"'\",\n",
       " 'C',\n",
       " 'A',\n",
       " 'U',\n",
       " 'S',\n",
       " 'E',\n",
       " ' ',\n",
       " 'T',\n",
       " 'H',\n",
       " 'E',\n",
       " ' ',\n",
       " 'P',\n",
       " 'L',\n",
       " 'A',\n",
       " 'Y',\n",
       " 'E',\n",
       " 'R',\n",
       " 'S',\n",
       " ' ',\n",
       " 'G',\n",
       " 'O',\n",
       " 'N',\n",
       " 'N',\n",
       " 'A',\n",
       " ' ',\n",
       " 'P',\n",
       " 'L',\n",
       " 'A',\n",
       " 'Y',\n",
       " ',',\n",
       " ' ',\n",
       " 'P',\n",
       " 'L',\n",
       " 'A',\n",
       " 'Y',\n",
       " ',',\n",
       " ' ',\n",
       " 'P',\n",
       " 'L',\n",
       " 'A',\n",
       " 'Y',\n",
       " ',',\n",
       " ' ',\n",
       " 'P',\n",
       " 'L',\n",
       " 'A',\n",
       " 'Y',\n",
       " ',',\n",
       " ' ',\n",
       " 'P',\n",
       " 'L',\n",
       " 'A',\n",
       " 'Y',\n",
       " '\\n',\n",
       " 'A',\n",
       " 'N',\n",
       " 'D',\n",
       " ' ',\n",
       " 'T',\n",
       " 'H',\n",
       " 'E',\n",
       " ' ',\n",
       " 'H',\n",
       " 'A',\n",
       " 'T',\n",
       " 'E',\n",
       " 'R',\n",
       " 'S',\n",
       " ' ',\n",
       " 'G',\n",
       " 'O',\n",
       " 'N',\n",
       " 'N',\n",
       " 'A',\n",
       " ' ',\n",
       " 'H',\n",
       " 'A',\n",
       " 'T',\n",
       " 'E',\n",
       " ',',\n",
       " ' ',\n",
       " 'H',\n",
       " 'A',\n",
       " 'T',\n",
       " 'E',\n",
       " ',',\n",
       " ' ',\n",
       " 'H',\n",
       " 'A',\n",
       " 'T',\n",
       " 'E',\n",
       " ',',\n",
       " ' ',\n",
       " 'H',\n",
       " 'A',\n",
       " 'T',\n",
       " 'E',\n",
       " ',',\n",
       " ' ',\n",
       " 'H',\n",
       " 'A',\n",
       " 'T',\n",
       " 'E',\n",
       " '\\n',\n",
       " 'B',\n",
       " 'A',\n",
       " 'B',\n",
       " 'Y',\n",
       " ',',\n",
       " ' ',\n",
       " 'I',\n",
       " \"'\",\n",
       " 'M',\n",
       " ' ',\n",
       " 'J',\n",
       " 'U',\n",
       " 'S',\n",
       " 'T',\n",
       " ' ',\n",
       " 'G',\n",
       " 'O',\n",
       " 'N',\n",
       " 'N',\n",
       " 'A',\n",
       " ' ',\n",
       " 'S',\n",
       " 'H',\n",
       " 'A',\n",
       " 'K',\n",
       " 'E',\n",
       " ',',\n",
       " ' ',\n",
       " 'S',\n",
       " 'H',\n",
       " 'A',\n",
       " 'K',\n",
       " 'E',\n",
       " ',',\n",
       " ' ',\n",
       " 'S',\n",
       " 'H',\n",
       " 'A',\n",
       " 'K',\n",
       " 'E',\n",
       " ',',\n",
       " ' ',\n",
       " 'S',\n",
       " 'H',\n",
       " 'A',\n",
       " 'K',\n",
       " 'E',\n",
       " ',',\n",
       " ' ',\n",
       " 'S',\n",
       " 'H',\n",
       " 'A',\n",
       " 'K',\n",
       " 'E',\n",
       " '\\n',\n",
       " 'I',\n",
       " ' ',\n",
       " 'S',\n",
       " 'H',\n",
       " 'A',\n",
       " 'K',\n",
       " 'E',\n",
       " ' ',\n",
       " 'I',\n",
       " 'T',\n",
       " ' ',\n",
       " 'O',\n",
       " 'F',\n",
       " 'F',\n",
       " ',',\n",
       " ' ',\n",
       " 'I',\n",
       " ' ',\n",
       " 'S',\n",
       " 'H',\n",
       " 'A',\n",
       " 'K',\n",
       " 'E',\n",
       " ' ',\n",
       " 'I',\n",
       " 'T',\n",
       " ' ',\n",
       " 'O',\n",
       " 'F',\n",
       " 'F',\n",
       " ' ',\n",
       " '(',\n",
       " 'H',\n",
       " 'O',\n",
       " 'O',\n",
       " '-',\n",
       " 'H',\n",
       " 'O',\n",
       " 'O',\n",
       " '-',\n",
       " 'H',\n",
       " 'O',\n",
       " 'O',\n",
       " ')',\n",
       " '\\n',\n",
       " 'H',\n",
       " 'E',\n",
       " 'A',\n",
       " 'R',\n",
       " 'T',\n",
       " 'B',\n",
       " 'R',\n",
       " 'E',\n",
       " 'A',\n",
       " 'K',\n",
       " 'E',\n",
       " 'R',\n",
       " 'S',\n",
       " ' ',\n",
       " 'G',\n",
       " 'O',\n",
       " 'N',\n",
       " 'N',\n",
       " 'A',\n",
       " ' ',\n",
       " 'B',\n",
       " 'R',\n",
       " 'E',\n",
       " 'A',\n",
       " 'K',\n",
       " ',',\n",
       " ' ',\n",
       " 'B',\n",
       " 'R',\n",
       " 'E',\n",
       " 'A',\n",
       " 'K',\n",
       " ',',\n",
       " ' ',\n",
       " 'B',\n",
       " 'R',\n",
       " 'E',\n",
       " 'A',\n",
       " 'K',\n",
       " ',',\n",
       " ' ',\n",
       " 'B',\n",
       " 'R',\n",
       " 'E',\n",
       " 'A',\n",
       " 'K',\n",
       " ',',\n",
       " ' ',\n",
       " 'B',\n",
       " 'R',\n",
       " 'E',\n",
       " 'A',\n",
       " 'K',\n",
       " '\\n',\n",
       " 'A',\n",
       " 'N',\n",
       " 'D',\n",
       " ' ',\n",
       " 'T',\n",
       " 'H',\n",
       " 'E',\n",
       " ' ',\n",
       " 'F',\n",
       " 'A',\n",
       " 'K',\n",
       " 'E',\n",
       " 'R',\n",
       " 'S',\n",
       " ' ',\n",
       " 'G',\n",
       " 'O',\n",
       " 'N',\n",
       " 'N',\n",
       " 'A',\n",
       " ' ',\n",
       " 'F',\n",
       " 'A',\n",
       " 'K',\n",
       " 'E',\n",
       " ',',\n",
       " ' ',\n",
       " 'F',\n",
       " 'A',\n",
       " 'K',\n",
       " 'E',\n",
       " ',',\n",
       " ' ',\n",
       " 'F',\n",
       " 'A',\n",
       " 'K',\n",
       " 'E',\n",
       " ',',\n",
       " ' ',\n",
       " 'F',\n",
       " 'A',\n",
       " 'K',\n",
       " 'E',\n",
       " ',',\n",
       " ' ',\n",
       " 'F',\n",
       " 'A',\n",
       " 'K',\n",
       " 'E',\n",
       " '\\n',\n",
       " 'B',\n",
       " 'A',\n",
       " 'B',\n",
       " 'Y',\n",
       " ',',\n",
       " ' ',\n",
       " 'I',\n",
       " \"'\",\n",
       " 'M',\n",
       " ' ',\n",
       " 'J',\n",
       " 'U',\n",
       " 'S',\n",
       " 'T',\n",
       " ' ',\n",
       " 'G',\n",
       " 'O',\n",
       " 'N',\n",
       " 'N',\n",
       " 'A',\n",
       " ' ',\n",
       " 'S',\n",
       " 'H',\n",
       " 'A',\n",
       " 'K',\n",
       " 'E',\n",
       " ',',\n",
       " ' ',\n",
       " 'S',\n",
       " 'H',\n",
       " 'A',\n",
       " 'K',\n",
       " 'E',\n",
       " ',',\n",
       " ' ',\n",
       " 'S',\n",
       " 'H',\n",
       " 'A',\n",
       " 'K',\n",
       " 'E',\n",
       " ',',\n",
       " ' ',\n",
       " 'S',\n",
       " 'H',\n",
       " 'A',\n",
       " 'K',\n",
       " 'E',\n",
       " ',',\n",
       " ' ',\n",
       " 'S',\n",
       " 'H',\n",
       " 'A',\n",
       " 'K',\n",
       " 'E',\n",
       " '\\n',\n",
       " 'I',\n",
       " ' ',\n",
       " 'S',\n",
       " 'H',\n",
       " 'A',\n",
       " 'K',\n",
       " 'E',\n",
       " ' ',\n",
       " 'I',\n",
       " 'T',\n",
       " ' ',\n",
       " 'O',\n",
       " 'F',\n",
       " 'F',\n",
       " ',',\n",
       " ' ',\n",
       " 'I',\n",
       " ' ',\n",
       " 'S',\n",
       " 'H',\n",
       " 'A',\n",
       " 'K',\n",
       " 'E',\n",
       " ' ',\n",
       " 'I',\n",
       " 'T',\n",
       " ' ',\n",
       " 'O',\n",
       " 'F',\n",
       " 'F',\n",
       " ' ',\n",
       " '(',\n",
       " 'H',\n",
       " 'O',\n",
       " 'O',\n",
       " '-',\n",
       " 'H',\n",
       " 'O',\n",
       " 'O',\n",
       " '-',\n",
       " 'H',\n",
       " 'O',\n",
       " 'O',\n",
       " ')',\n",
       " '\\n',\n",
       " 'I',\n",
       " ' ',\n",
       " 'N',\n",
       " 'E',\n",
       " 'V',\n",
       " 'E',\n",
       " 'R',\n",
       " ' ',\n",
       " 'M',\n",
       " 'I',\n",
       " 'S',\n",
       " 'S',\n",
       " ' ',\n",
       " 'A',\n",
       " ' ',\n",
       " 'B',\n",
       " 'E',\n",
       " 'A',\n",
       " 'T',\n",
       " '\\n',\n",
       " 'I',\n",
       " \"'\",\n",
       " 'M',\n",
       " ' ',\n",
       " 'L',\n",
       " 'I',\n",
       " 'G',\n",
       " 'H',\n",
       " 'T',\n",
       " 'N',\n",
       " 'I',\n",
       " 'N',\n",
       " \"'\",\n",
       " ' ',\n",
       " 'O',\n",
       " 'N',\n",
       " ' ',\n",
       " 'M',\n",
       " 'Y',\n",
       " ' ',\n",
       " 'F',\n",
       " 'E',\n",
       " 'E',\n",
       " 'T',\n",
       " '\\n',\n",
       " 'A',\n",
       " 'N',\n",
       " 'D',\n",
       " ' ',\n",
       " 'T',\n",
       " 'H',\n",
       " 'A',\n",
       " 'T',\n",
       " \"'\",\n",
       " 'S',\n",
       " ' ',\n",
       " 'W',\n",
       " 'H',\n",
       " 'A',\n",
       " 'T',\n",
       " ' ',\n",
       " 'T',\n",
       " 'H',\n",
       " 'E',\n",
       " 'Y',\n",
       " ' ',\n",
       " 'D',\n",
       " 'O',\n",
       " 'N',\n",
       " \"'\",\n",
       " 'T',\n",
       " ' ',\n",
       " 'S',\n",
       " 'E',\n",
       " 'E',\n",
       " ',',\n",
       " ' ',\n",
       " 'M',\n",
       " 'M',\n",
       " '-',\n",
       " 'M',\n",
       " 'M',\n",
       " '\\n',\n",
       " 'T',\n",
       " 'H',\n",
       " 'A',\n",
       " 'T',\n",
       " \"'\",\n",
       " 'S',\n",
       " ' ',\n",
       " 'W',\n",
       " 'H',\n",
       " 'A',\n",
       " 'T',\n",
       " ' ',\n",
       " 'T',\n",
       " 'H',\n",
       " 'E',\n",
       " 'Y',\n",
       " ' ',\n",
       " 'D',\n",
       " 'O',\n",
       " 'N',\n",
       " \"'\",\n",
       " 'T',\n",
       " ' ',\n",
       " 'S',\n",
       " 'E',\n",
       " 'E',\n",
       " ',',\n",
       " ' ',\n",
       " 'M',\n",
       " 'M',\n",
       " '-',\n",
       " 'M',\n",
       " 'M',\n",
       " '\\n',\n",
       " 'I',\n",
       " \"'\",\n",
       " 'M',\n",
       " ' ',\n",
       " 'D',\n",
       " 'A',\n",
       " 'N',\n",
       " 'C',\n",
       " 'I',\n",
       " 'N',\n",
       " \"'\",\n",
       " ' ',\n",
       " 'O',\n",
       " 'N',\n",
       " ' ',\n",
       " 'M',\n",
       " 'Y',\n",
       " ' ',\n",
       " 'O',\n",
       " 'W',\n",
       " 'N',\n",
       " ' ',\n",
       " '(',\n",
       " 'D',\n",
       " 'A',\n",
       " 'N',\n",
       " 'C',\n",
       " 'I',\n",
       " 'N',\n",
       " \"'\",\n",
       " ' ',\n",
       " 'O',\n",
       " 'N',\n",
       " ' ',\n",
       " 'M',\n",
       " 'Y',\n",
       " ' ',\n",
       " 'O',\n",
       " 'W',\n",
       " 'N',\n",
       " ')',\n",
       " '\\n',\n",
       " 'I',\n",
       " ' ',\n",
       " 'M',\n",
       " 'A',\n",
       " 'K',\n",
       " 'E',\n",
       " ' ',\n",
       " 'T',\n",
       " 'H',\n",
       " 'E',\n",
       " ' ',\n",
       " 'M',\n",
       " 'O',\n",
       " 'V',\n",
       " 'E',\n",
       " 'S',\n",
       " ' ',\n",
       " 'U',\n",
       " 'P',\n",
       " ' ',\n",
       " 'A',\n",
       " 'S',\n",
       " ' ',\n",
       " 'I',\n",
       " ' ',\n",
       " 'G',\n",
       " 'O',\n",
       " ' ',\n",
       " '(',\n",
       " 'M',\n",
       " 'O',\n",
       " 'V',\n",
       " 'E',\n",
       " 'S',\n",
       " ' ',\n",
       " 'U',\n",
       " 'P',\n",
       " ' ',\n",
       " 'A',\n",
       " 'S',\n",
       " ' ',\n",
       " 'I',\n",
       " ' ',\n",
       " 'G',\n",
       " 'O',\n",
       " ')',\n",
       " '\\n',\n",
       " 'A',\n",
       " 'N',\n",
       " 'D',\n",
       " ' ',\n",
       " 'T',\n",
       " 'H',\n",
       " 'A',\n",
       " 'T',\n",
       " \"'\",\n",
       " 'S',\n",
       " ' ',\n",
       " 'W',\n",
       " 'H',\n",
       " 'A',\n",
       " 'T',\n",
       " ' ',\n",
       " 'T',\n",
       " 'H',\n",
       " 'E',\n",
       " 'Y',\n",
       " ' ',\n",
       " 'D',\n",
       " 'O',\n",
       " 'N',\n",
       " \"'\",\n",
       " 'T',\n",
       " ' ',\n",
       " 'K',\n",
       " 'N',\n",
       " 'O',\n",
       " 'W',\n",
       " ',',\n",
       " ' ',\n",
       " 'M',\n",
       " 'M',\n",
       " '-',\n",
       " 'M',\n",
       " 'M',\n",
       " '\\n',\n",
       " 'T',\n",
       " 'H',\n",
       " 'A',\n",
       " 'T',\n",
       " \"'\",\n",
       " 'S',\n",
       " ' ',\n",
       " 'W',\n",
       " ...]"
      ]
     },
     "execution_count": 25,
     "metadata": {},
     "output_type": "execute_result"
    }
   ],
   "source": [
    "lst=list(lyrics.upper())\n",
    "lst"
   ]
  },
  {
   "cell_type": "code",
   "execution_count": 24,
   "metadata": {},
   "outputs": [
    {
     "data": {
      "text/plain": [
       "93"
      ]
     },
     "execution_count": 24,
     "metadata": {},
     "output_type": "execute_result"
    }
   ],
   "source": [
    "lst.count('A') + lst.count('a')"
   ]
  },
  {
   "cell_type": "code",
   "execution_count": 26,
   "metadata": {},
   "outputs": [
    {
     "data": {
      "text/plain": [
       "93"
      ]
     },
     "execution_count": 26,
     "metadata": {},
     "output_type": "execute_result"
    }
   ],
   "source": [
    "lst.count('A')"
   ]
  },
  {
   "cell_type": "code",
   "execution_count": 27,
   "metadata": {},
   "outputs": [
    {
     "data": {
      "text/plain": [
       "65"
      ]
     },
     "execution_count": 27,
     "metadata": {},
     "output_type": "execute_result"
    }
   ],
   "source": [
    "ord('A')"
   ]
  },
  {
   "cell_type": "code",
   "execution_count": 29,
   "metadata": {},
   "outputs": [
    {
     "name": "stdout",
     "output_type": "stream",
     "text": [
      "A: 93\n",
      "B: 15\n",
      "C: 7\n",
      "D: 12\n",
      "E: 73\n",
      "F: 15\n",
      "G: 15\n",
      "H: 55\n",
      "I: 41\n",
      "J: 2\n",
      "K: 32\n",
      "L: 15\n",
      "M: 51\n",
      "N: 50\n",
      "O: 56\n",
      "P: 19\n",
      "Q: 0\n",
      "R: 15\n",
      "S: 53\n",
      "T: 75\n",
      "U: 10\n",
      "V: 4\n",
      "W: 13\n",
      "X: 0\n",
      "Y: 25\n",
      "Z: 0\n"
     ]
    }
   ],
   "source": [
    "# for ch in range(ord('A'), ord('Z') + 1):\n",
    "for c in 'ABCDEFGHIJKLMNOPQRSTUVWXYZ':\n",
    "    # c = chr(ch)\n",
    "    print(f'{c}: {lst.count(c)}')"
   ]
  },
  {
   "cell_type": "code",
   "execution_count": 30,
   "metadata": {},
   "outputs": [
    {
     "data": {
      "text/plain": [
       "3"
      ]
     },
     "execution_count": 30,
     "metadata": {},
     "output_type": "execute_result"
    }
   ],
   "source": [
    "2547 % 12"
   ]
  },
  {
   "cell_type": "code",
   "execution_count": 31,
   "metadata": {},
   "outputs": [
    {
     "data": {
      "text/plain": [
       "11"
      ]
     },
     "execution_count": 31,
     "metadata": {},
     "output_type": "execute_result"
    }
   ],
   "source": [
    "2567 % 12"
   ]
  },
  {
   "cell_type": "code",
   "execution_count": 32,
   "metadata": {},
   "outputs": [
    {
     "data": {
      "text/plain": [
       "10"
      ]
     },
     "execution_count": 32,
     "metadata": {},
     "output_type": "execute_result"
    }
   ],
   "source": [
    "2566 % 12"
   ]
  },
  {
   "cell_type": "code",
   "execution_count": null,
   "metadata": {},
   "outputs": [],
   "source": []
  }
 ],
 "metadata": {
  "kernelspec": {
   "display_name": "classroom",
   "language": "python",
   "name": "python3"
  },
  "language_info": {
   "codemirror_mode": {
    "name": "ipython",
    "version": 3
   },
   "file_extension": ".py",
   "mimetype": "text/x-python",
   "name": "python",
   "nbconvert_exporter": "python",
   "pygments_lexer": "ipython3",
   "version": "3.12.2"
  }
 },
 "nbformat": 4,
 "nbformat_minor": 2
}
