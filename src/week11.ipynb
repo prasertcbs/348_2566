{
 "cells": [
  {
   "cell_type": "code",
   "execution_count": 25,
   "metadata": {},
   "outputs": [
    {
     "name": "stdout",
     "output_type": "stream",
     "text": [
      "      9.0 -> 09:00 am\n"
     ]
    }
   ],
   "source": [
    "t = 9\n",
    "h = int(t)\n",
    "m = int((t-h)*60)\n",
    "# print(h, m)\n",
    "\n",
    "if h < 12:\n",
    "    print(f'{t:9.1f} -> {h:02}:{m:02} am')\n",
    "else:\n",
    "    print(f\"{t:9.1f} -> {h-12:02}:{m:02} pm\")\n",
    "# print(h, m)"
   ]
  },
  {
   "cell_type": "code",
   "execution_count": 37,
   "metadata": {},
   "outputs": [
    {
     "name": "stdout",
     "output_type": "stream",
     "text": [
      "09.00 -> 09:00 am\n",
      "09.25 -> 09:15 am\n",
      "21.00 -> 09:00 pm\n",
      "21.25 -> 09:15 pm\n",
      "10.50 -> 10:30 am\n",
      "10.75 -> 10:45 am\n",
      "01.10 -> 01:06 am\n",
      "13.10 -> 01:05 pm\n",
      "13.20 -> 01:11 pm\n",
      "13.30 -> 01:18 pm\n",
      "13.40 -> 01:24 pm\n",
      "13.50 -> 01:30 pm\n"
     ]
    }
   ],
   "source": [
    "dec_times = [9, 9.25, 21, 21.25, 10.5, 10.75, 1.1, 13.10, 13.2, 13.3, 13.4, 13.5]\n",
    "\n",
    "def dec_to_time(t):\n",
    "    h = int(t)\n",
    "    m = int((t - h) * 60)\n",
    "    # if h < 12:\n",
    "    #     return f\"{h:02}:{m:02} am\"\n",
    "    # else:\n",
    "    #     return f\"{h-12:02}:{m:02} pm\"\n",
    "    return f\"{h:02}:{m:02} am\" if h < 12 else f\"{h-12:02}:{m:02} pm\"\n",
    "\n",
    "for t in dec_times:\n",
    "    print(f'{t:05.2f} -> {dec_to_time(t)}')"
   ]
  },
  {
   "cell_type": "markdown",
   "metadata": {},
   "source": [
    "2. ## convert hhmm to decimal\n"
   ]
  },
  {
   "cell_type": "code",
   "execution_count": 52,
   "metadata": {},
   "outputs": [
    {
     "name": "stdout",
     "output_type": "stream",
     "text": [
      "09:00 am ->  9.00\n",
      "09:15 am ->  9.25\n",
      "09:00 pm -> 21.00\n",
      "09:15 pm -> 21.25\n",
      "10:30 am -> 10.50\n",
      "10:45 am -> 10.75\n",
      "01:06 am ->  1.10\n",
      "01:05 pm -> 13.08\n",
      "01:11 pm -> 13.18\n",
      "01:18 pm -> 13.30\n",
      "01:24 pm -> 13.40\n",
      "01:30 pm -> 13.50\n"
     ]
    }
   ],
   "source": [
    "time_strs = [\n",
    "    \"09:00 am\",\n",
    "    \"09:15 am\",\n",
    "    \"09:00 pm\",\n",
    "    \"09:15 pm\",\n",
    "    \"10:30 am\",\n",
    "    \"10:45 am\",\n",
    "    \"01:06 am\",\n",
    "    \"01:05 pm\",\n",
    "    \"01:11 pm\",\n",
    "    \"01:18 pm\",\n",
    "    \"01:24 pm\",\n",
    "    \"01:30 pm\",\n",
    "]\n",
    "\n",
    "\n",
    "def ampm_to_dec(s):\n",
    "    # s = \"09:15 am\"\n",
    "    h = int(s[:2])\n",
    "    m = int(s[3:5])\n",
    "    ampm = s[6:]  # s[-2:]\n",
    "    # print(h, m, ampm)\n",
    "    new_time = h + m / 60\n",
    "    if ampm == \"pm\":\n",
    "        new_time += 12\n",
    "    return new_time\n",
    "\n",
    "\n",
    "for s in time_strs:\n",
    "    print(f\"{s} -> {ampm_to_dec(s):5.2f}\")"
   ]
  },
  {
   "cell_type": "code",
   "execution_count": 1,
   "metadata": {},
   "outputs": [],
   "source": [
    "students = [\n",
    "    \"6341213026|Suppakorn Jarusdethwiriya\",\n",
    "    \"6441036326|Chatrtham Chatramornrat\",\n",
    "    \"6541003726|Koravit Wiriyasatta\",\n",
    "    \"6541011726|Kongpop Torcheep\",\n",
    "    \"6541012326|Kanchanaphon Khamhaeng\",\n",
    "    \"6541015226|Kantaphon Junjuryart\",\n",
    "    \"6541017526|Kanyarak Pongtanee\",\n",
    "    \"6541027826|Kanapoj Khamsai\",\n",
    "    \"6541028426|Jatupol Nontanok\",\n",
    "    \"6541031226|Jidapa Sopa\",\n",
    "    \"6541050126|Chanin Boonin\",\n",
    "    \"6541052426|Chayut Janporn\",\n",
    "    \"6541064026|Thitinatchaya Singkhamlo\",\n",
    "    \"6541069126|Napat Chatchawalanon\",\n",
    "    \"6541073626|Nutthanan Prachukhompon\",\n",
    "    \"6541078826|Nuttaphon Nithipaparnan\",\n",
    "    \"6541079426|Nattamon Lapvisudtisarod\",\n",
    "    \"6541105026|Thanut Puttanajutanun\",\n",
    "    \"6541135926|Chanissara Khamkhom\",\n",
    "    \"6541145126|Phannatat Bunyadet\",\n",
    "    \"6541150226|Palita Premkit\",\n",
    "    \"6541153126|Poonyanuch Weeratutprapa\",\n",
    "    \"6541158326|Phacharachon Thananilkul\",\n",
    "    \"6541159026|Pacharawan Sriraksa\",\n",
    "    \"6541175026|Pichsinee Rattanaphan\",\n",
    "    \"6541185226|Praewa Pechsung\",\n",
    "    \"6541193226|Pattarasri Khannark\",\n",
    "    \"6541195526|Pakpoom Pewoon\",\n",
    "    \"6541239526|Sirin Promchim\",\n",
    "    \"6541242326|Suyanish Ekbundit\",\n",
    "    \"6541243026|Supatchara Suwan\",\n",
    "    \"6541259026|Apiwit Saekow\",\n",
    "    \"6541260626|Arissara Jeebdam\",\n",
    "]"
   ]
  },
  {
   "cell_type": "code",
   "execution_count": 2,
   "metadata": {},
   "outputs": [
    {
     "name": "stdout",
     "output_type": "stream",
     "text": [
      " 1. SUPPAKORN            2. CHATRTHAM            3. KORAVIT             \n",
      " 4. KONGPOP              5. KANCHANAPHON         6. KANTAPHON           \n",
      " 7. KANYARAK             8. KANAPOJ              9. JATUPOL             \n",
      "10. JIDAPA              11. CHANIN              12. CHAYUT              \n",
      "13. THITINATCHAYA       14. NAPAT               15. NUTTHANAN           \n",
      "16. NUTTAPHON           17. NATTAMON            18. THANUT              \n",
      "19. CHANISSARA          20. PHANNATAT           21. PALITA              \n",
      "22. POONYANUCH          23. PHACHARACHON        24. PACHARAWAN          \n",
      "25. PICHSINEE           26. PRAEWA              27. PATTARASRI          \n",
      "28. PAKPOOM             29. SIRIN               30. SUYANISH            \n",
      "31. SUPATCHARA          32. APIWIT              33. ARISSARA            \n"
     ]
    }
   ],
   "source": [
    "def extract_fname(s):\n",
    "    _, name = s.split('|')\n",
    "    fname, lname = name.split(' ')\n",
    "    return fname.upper()\n",
    "\n",
    "c = int(input(\"columns = \"))\n",
    "for nth, s in enumerate(students, start=1):\n",
    "    print(f'{nth:>2}. {extract_fname(s):<20}', end='')\n",
    "    if (nth % c) == 0:\n",
    "        print()"
   ]
  },
  {
   "cell_type": "code",
   "execution_count": 12,
   "metadata": {},
   "outputs": [
    {
     "data": {
      "text/plain": [
       "'ARISSARA'"
      ]
     },
     "execution_count": 12,
     "metadata": {},
     "output_type": "execute_result"
    }
   ],
   "source": [
    "def extract_fname(student):\n",
    "    pos = student.find(\"|\") + 1\n",
    "    fname, lname = student[pos:].split(\" \")\n",
    "    return fname.upper()\n",
    "\n",
    "s = \"6541260626|Arissara Jeebdam\"\n",
    "extract_fname(s)"
   ]
  },
  {
   "cell_type": "code",
   "execution_count": 14,
   "metadata": {},
   "outputs": [
    {
     "name": "stdout",
     "output_type": "stream",
     "text": [
      " 1. SUPPAKORN       2. CHATRTHAM       3. KORAVIT        \n",
      " 4. KONGPOP         5. KANCHANAPHON    6. KANTAPHON      \n",
      " 7. KANYARAK        8. KANAPOJ         9. JATUPOL        \n",
      "10. JIDAPA         11. CHANIN         12. CHAYUT         \n",
      "13. THITINATCHAYA  14. NAPAT          15. NUTTHANAN      \n",
      "16. NUTTAPHON      17. NATTAMON       18. THANUT         \n",
      "19. CHANISSARA     20. PHANNATAT      21. PALITA         \n",
      "22. POONYANUCH     23. PHACHARACHON   24. PACHARAWAN     \n",
      "25. PICHSINEE      26. PRAEWA         27. PATTARASRI     \n",
      "28. PAKPOOM        29. SIRIN          30. SUYANISH       \n",
      "31. SUPATCHARA     32. APIWIT         33. ARISSARA       \n"
     ]
    }
   ],
   "source": [
    "c = int(input(\"columns = \"))\n",
    "for nth, student in enumerate(students, start=1):\n",
    "    fname = extract_fname(student)\n",
    "    print(f\"{nth:2}. {fname:15}\", end=\"\")\n",
    "    if (nth) % c == 0:\n",
    "        print()"
   ]
  },
  {
   "cell_type": "markdown",
   "metadata": {},
   "source": [
    "# function concepts"
   ]
  },
  {
   "cell_type": "code",
   "execution_count": 66,
   "metadata": {},
   "outputs": [
    {
     "name": "stdout",
     "output_type": "stream",
     "text": [
      "-------------------------\n"
     ]
    }
   ],
   "source": [
    "def dash25():\n",
    "    print('-' * 25)\n",
    "\n",
    "dash25()"
   ]
  },
  {
   "cell_type": "code",
   "execution_count": 67,
   "metadata": {},
   "outputs": [
    {
     "name": "stdout",
     "output_type": "stream",
     "text": [
      "----------\n"
     ]
    }
   ],
   "source": [
    "def dash(n): # n -> parameter\n",
    "    print('-' * n)\n",
    "\n",
    "dash(10)"
   ]
  },
  {
   "cell_type": "code",
   "execution_count": 68,
   "metadata": {},
   "outputs": [
    {
     "name": "stdout",
     "output_type": "stream",
     "text": [
      "==========\n"
     ]
    }
   ],
   "source": [
    "def xdash(n, c):\n",
    "    print(c * n)\n",
    "\n",
    "xdash(10, '=')"
   ]
  },
  {
   "cell_type": "code",
   "execution_count": 69,
   "metadata": {},
   "outputs": [
    {
     "name": "stdout",
     "output_type": "stream",
     "text": [
      "😀😀😀😀😀😀😀😀😀😀😀😀😀😀😀😀😀😀😀😀\n"
     ]
    }
   ],
   "source": [
    "def zdash(n, c):\n",
    "    return c * n\n",
    "\n",
    "x=zdash(20, '😀')\n",
    "print(x)\n"
   ]
  },
  {
   "cell_type": "code",
   "execution_count": 80,
   "metadata": {},
   "outputs": [],
   "source": [
    "info = \"6541260626|Arissara Jeebdam\"\n",
    "def extract_info(s):\n",
    "    # print(info)\n",
    "    student_id, name = s.split('|')\n",
    "    fname, lname = name.split(' ')\n",
    "    return student_id, fname, lname"
   ]
  },
  {
   "cell_type": "code",
   "execution_count": 87,
   "metadata": {},
   "outputs": [
    {
     "data": {
      "text/plain": [
       "'Jeebdam'"
      ]
     },
     "execution_count": 87,
     "metadata": {},
     "output_type": "execute_result"
    }
   ],
   "source": [
    "extract_info(info)[2]\n"
   ]
  },
  {
   "cell_type": "code",
   "execution_count": null,
   "metadata": {},
   "outputs": [
    {
     "data": {
      "text/plain": [
       "'6541260626'"
      ]
     },
     "metadata": {},
     "output_type": "display_data"
    }
   ],
   "source": [
    "a, b, c = extract_info(info)\n",
    "a"
   ]
  },
  {
   "cell_type": "code",
   "execution_count": 83,
   "metadata": {},
   "outputs": [
    {
     "data": {
      "text/plain": [
       "'Arissara'"
      ]
     },
     "execution_count": 83,
     "metadata": {},
     "output_type": "execute_result"
    }
   ],
   "source": [
    "b"
   ]
  },
  {
   "cell_type": "code",
   "execution_count": 84,
   "metadata": {},
   "outputs": [
    {
     "data": {
      "text/plain": [
       "'Jeebdam'"
      ]
     },
     "execution_count": 84,
     "metadata": {},
     "output_type": "execute_result"
    }
   ],
   "source": [
    "c"
   ]
  },
  {
   "cell_type": "code",
   "execution_count": null,
   "metadata": {},
   "outputs": [],
   "source": []
  }
 ],
 "metadata": {
  "kernelspec": {
   "display_name": "base",
   "language": "python",
   "name": "python3"
  },
  "language_info": {
   "codemirror_mode": {
    "name": "ipython",
    "version": 3
   },
   "file_extension": ".py",
   "mimetype": "text/x-python",
   "name": "python",
   "nbconvert_exporter": "python",
   "pygments_lexer": "ipython3",
   "version": "3.12.2"
  },
  "orig_nbformat": 4,
  "vscode": {
   "interpreter": {
    "hash": "629cb9f199f624aadf5cdcebfeb0fdc9652b7a7e432d484384b677cab7914fce"
   }
  }
 },
 "nbformat": 4,
 "nbformat_minor": 2
}
