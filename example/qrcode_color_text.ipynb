{
 "cells": [
  {
   "attachments": {},
   "cell_type": "markdown",
   "metadata": {},
   "source": [
    "# Generate QRCode with Color and Text\n",
    "- API: https://github.com/metafloor/bwip-js/wiki/Online-Barcode-API\n",
    "\n",
    "```\n",
    "author: Prasert Kanawattanachai\n",
    "github: https://github.com/prasertcbs/python_howto/blob/main/qrcode_color_text.ipynb\n",
    "YouTube: https://youtu.be/EXjIGZ9YvKw\n",
    "```"
   ]
  },
  {
   "cell_type": "code",
   "execution_count": 1,
   "metadata": {},
   "outputs": [],
   "source": [
    "# pip install requests Pillow\n",
    "import requests\n",
    "from PIL import Image  # pillow package (Python Image Library)\n",
    "import io\n"
   ]
  },
  {
   "cell_type": "code",
   "execution_count": 2,
   "metadata": {},
   "outputs": [],
   "source": [
    "url = \"https://api-bwipjs.metafloor.com/?bcid=qrcode&text=Iron Man&alttext=Tony Stark&textsize=3&scale=4&textcolor=c700c7&barcolor=000000\"\n"
   ]
  },
  {
   "cell_type": "code",
   "execution_count": 3,
   "metadata": {},
   "outputs": [
    {
     "data": {
      "image/png": "[encoded data removed]",
      "text/plain": [
       "<PIL.PngImagePlugin.PngImageFile image mode=RGBA size=168x196>"
      ]
     },
     "execution_count": 3,
     "metadata": {},
     "output_type": "execute_result"
    }
   ],
   "source": [
    "r = requests.get(url)\n",
    "img = Image.open(io.BytesIO(r.content))\n",
    "img\n"
   ]
  },
  {
   "cell_type": "code",
   "execution_count": 4,
   "metadata": {},
   "outputs": [],
   "source": [
    "def gen_qrcode(\n",
    "    text,\n",
    "    barcolor=\"000000\",\n",
    "    alttext=\"\",\n",
    "    textsize=3,\n",
    "    scale=5,\n",
    "    textcolor=\"aaaaaa\",\n",
    "    padding=3,\n",
    "):\n",
    "    url = f\"https://api-bwipjs.metafloor.com/?bcid=qrcode&text={text}&alttext={alttext}&textsize={textsize}&scale={scale}&textcolor={textcolor}&barcolor={barcolor}&backgroundcolor=ffffff&paddingwidth={padding}&paddingheight={padding}\"\n",
    "    print(url)\n",
    "    r = requests.get(url)\n",
    "    img = Image.open(io.BytesIO(r.content))\n",
    "    return img\n"
   ]
  },
  {
   "cell_type": "code",
   "execution_count": 5,
   "metadata": {},
   "outputs": [
    {
     "name": "stdout",
     "output_type": "stream",
     "text": [
      "https://api-bwipjs.metafloor.com/?bcid=qrcode&text=https://youtube.com/prasetcbs&alttext=prasertcbs&textsize=4&scale=5&textcolor=fd5d3f&barcolor=0f4c81&backgroundcolor=ffffff&paddingwidth=3&paddingheight=3\n"
     ]
    },
    {
     "data": {
      "image/png": "[encoded data removed]",
      "text/plain": [
       "<PIL.PngImagePlugin.PngImageFile image mode=RGBA size=320x365>"
      ]
     },
     "execution_count": 5,
     "metadata": {},
     "output_type": "execute_result"
    }
   ],
   "source": [
    "img = gen_qrcode(\n",
    "    \"https://youtube.com/prasetcbs\",\n",
    "    alttext=\"prasertcbs\",\n",
    "    textsize=4,\n",
    "    textcolor=\"fd5d3f\",\n",
    "    barcolor=\"0f4c81\"\n",
    ")\n",
    "img\n"
   ]
  },
  {
   "cell_type": "code",
   "execution_count": 24,
   "metadata": {},
   "outputs": [],
   "source": [
    "img.save(\"qr.png\")\n"
   ]
  },
  {
   "cell_type": "code",
   "execution_count": null,
   "metadata": {},
   "outputs": [],
   "source": []
  }
 ],
 "metadata": {
  "kernelspec": {
   "display_name": "base",
   "language": "python",
   "name": "python3"
  },
  "language_info": {
   "codemirror_mode": {
    "name": "ipython",
    "version": 3
   },
   "file_extension": ".py",
   "mimetype": "text/x-python",
   "name": "python",
   "nbconvert_exporter": "python",
   "pygments_lexer": "ipython3",
   "version": "3.9.16 (main, Jan 11 2023, 16:16:36) [MSC v.1916 64 bit (AMD64)]"
  },
  "orig_nbformat": 4,
  "vscode": {
   "interpreter": {
    "hash": "629cb9f199f624aadf5cdcebfeb0fdc9652b7a7e432d484384b677cab7914fce"
   }
  }
 },
 "nbformat": 4,
 "nbformat_minor": 2
}
